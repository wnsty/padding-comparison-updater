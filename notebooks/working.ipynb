{
 "cells": [
  {
   "cell_type": "code",
   "execution_count": 1,
   "metadata": {},
   "outputs": [],
   "source": [
    "import requests\n",
    "import json\n",
    "from bs4 import BeautifulSoup\n",
    "import pygsheets\n",
    "from pygsheets import Worksheet, Cell, Address\n",
    "import numpy as np\n",
    "from selenium import webdriver\n",
    "from selenium.webdriver.firefox.webdriver import WebDriver\n",
    "import re\n",
    "from html import unescape"
   ]
  },
  {
   "cell_type": "code",
   "execution_count": 2,
   "metadata": {},
   "outputs": [],
   "source": [
    "with requests.get('https://tykables.com/products/str8up-pink.json') as response:\n",
    "\tdata = response.json()['product']['variants']"
   ]
  },
  {
   "cell_type": "code",
   "execution_count": 37,
   "metadata": {},
   "outputs": [],
   "source": [
    "tykables_sizes = {\n",
    "\t'Large': {\n",
    "\t\t'display_size': 'Large',\n",
    "\t\t'waist_high': '48',\n",
    "\t\t'waist_low': '34',\n",
    "\t},\n",
    "\t'Medium': {\n",
    "\t\t'display_size': 'Medium',\n",
    "\t\t'waist_high': '36',\n",
    "\t\t'waist_low': '28',\n",
    "\t},\n",
    "\t'XL': {\n",
    "\t\t'display_size': 'XLarge',\n",
    "\t\t'waist_high': '52',\n",
    "\t\t'waist_low': '48',\n",
    "\t}\n",
    "}"
   ]
  },
  {
   "cell_type": "code",
   "execution_count": 41,
   "metadata": {},
   "outputs": [
    {
     "name": "stdout",
     "output_type": "stream",
     "text": [
      "{40409446187081: {'units': '10', 'size': {'display_size': 'Medium', 'waist_high': '36', 'waist_low': '28'}}}\n",
      "{40409446252617: {'units': '40', 'size': {'display_size': 'Medium', 'waist_high': '36', 'waist_low': '28'}}}\n",
      "{40409446318153: {'units': '80', 'size': {'display_size': 'Medium', 'waist_high': '36', 'waist_low': '28'}}}\n",
      "{40409446449225: {'units': '10', 'size': {'display_size': 'Large', 'waist_high': '48', 'waist_low': '34'}}}\n",
      "{40409446514761: {'units': '40', 'size': {'display_size': 'Large', 'waist_high': '48', 'waist_low': '34'}}}\n",
      "{40409446580297: {'units': '80', 'size': {'display_size': 'Large', 'waist_high': '48', 'waist_low': '34'}}}\n",
      "{40409446711369: {'units': '10', 'size': {'display_size': 'XLarge', 'waist_high': '52', 'waist_low': '48'}}}\n",
      "{40409446776905: {'units': '40', 'size': {'display_size': 'XLarge', 'waist_high': '52', 'waist_low': '48'}}}\n",
      "{40409446842441: {'units': '80', 'size': {'display_size': 'XLarge', 'waist_high': '52', 'waist_low': '48'}}}\n"
     ]
    }
   ],
   "source": [
    "def to_schema(variant):\n",
    "    return {\n",
    "        variant['id']: {\n",
    "            'units': variant['option2'][:2],\n",
    "            'size': tykables_sizes[variant['option1']],\n",
    "        }\n",
    "    }\n",
    "\n",
    "\n",
    "def valid_variants(variant):\n",
    "    return variant['option3'] == 'None' and variant['option2'] != '1 Sample'\n",
    "\n",
    "\n",
    "print(*list(map(to_schema, filter(valid_variants, data))), sep='\\n')\n"
   ]
  }
 ],
 "metadata": {
  "kernelspec": {
   "display_name": ".venv",
   "language": "python",
   "name": "python3"
  },
  "language_info": {
   "codemirror_mode": {
    "name": "ipython",
    "version": 3
   },
   "file_extension": ".py",
   "mimetype": "text/x-python",
   "name": "python",
   "nbconvert_exporter": "python",
   "pygments_lexer": "ipython3",
   "version": "3.10.4"
  },
  "orig_nbformat": 4,
  "vscode": {
   "interpreter": {
    "hash": "b3c221db3b88a5e95a81a2f3a3bcc5a26f644fa3036dc2c040ab2b4a0e2d72db"
   }
  }
 },
 "nbformat": 4,
 "nbformat_minor": 2
}
