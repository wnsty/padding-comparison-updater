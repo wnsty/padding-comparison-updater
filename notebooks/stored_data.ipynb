{
 "cells": [
  {
   "cell_type": "code",
   "execution_count": 1,
   "metadata": {},
   "outputs": [],
   "source": [
    "import requests\n",
    "import re\n",
    "import json\n",
    "from bs4 import BeautifulSoup\n",
    "from selenium import webdriver\n",
    "from selenium.webdriver.common.by import By\n",
    "from time import sleep"
   ]
  },
  {
   "cell_type": "code",
   "execution_count": null,
   "metadata": {},
   "outputs": [],
   "source": [
    "variant_template = {\n",
    "\t'size': 'Medium',\n",
    "\t'units': 0,\n",
    "\t'waist_low': 10,\n",
    "\t'waist_high': 11,\n",
    "}\n",
    "\n",
    "updated_items = {\n",
    "\t'price': 0.00,\n",
    "\t'in_stock': False,\n",
    "\t'ml_per_unit_price': 0.00,\n",
    "\t'total_price': 0.00,\n",
    "\t'unit_price': 0.00,\n",
    "}"
   ]
  },
  {
   "cell_type": "code",
   "execution_count": 2,
   "metadata": {},
   "outputs": [],
   "source": [
    "driver = webdriver.Firefox()"
   ]
  },
  {
   "cell_type": "code",
   "execution_count": 20,
   "metadata": {},
   "outputs": [],
   "source": [
    "urls = [\n",
    "\t'https://us.abuniverse.com/product/agz/',\n",
    "\t'https://us.abuniverse.com/product/bny4/',\n",
    "\t'https://us.abuniverse.com/product/cbc/',\n",
    "\t'https://us.abuniverse.com/product/cus/',\n",
    "\t'https://us.abuniverse.com/product/dno/',\n",
    "\t'https://us.abuniverse.com/product/lkg/',\n",
    "\t'https://us.abuniverse.com/product/pwz/',\n",
    "\t'https://us.abuniverse.com/product/pab/',\n",
    "\t'https://us.abuniverse.com/product/prp/',\n",
    "\t'https://us.abuniverse.com/product/prs/',\n",
    "\t'https://us.abuniverse.com/product/whi/',\n",
    "\t'https://us.abuniverse.com/product/siu/',\n",
    "\t'https://us.abuniverse.com/product/kdo/',\n",
    "\t'https://us.abuniverse.com/product/spc/',\n",
    "\t'https://us.abuniverse.com/product/sdk/',\n",
    "]"
   ]
  },
  {
   "cell_type": "code",
   "execution_count": 34,
   "metadata": {},
   "outputs": [],
   "source": [
    "with open('data.json') as file:\n",
    "\tstored_products = json.load(file)"
   ]
  },
  {
   "cell_type": "code",
   "execution_count": 33,
   "metadata": {},
   "outputs": [],
   "source": [
    "rows = []\n",
    "for url in urls:\n",
    "\trow = abu(url)\n",
    "\trows.extend(row)\n",
    "\n",
    "with open('sheet.json', 'w') as file:\n",
    "\tjson.dump(rows, file, sort_keys=True, indent=4, separators=(',', ': '))"
   ]
  },
  {
   "cell_type": "code",
   "execution_count": 4,
   "metadata": {},
   "outputs": [],
   "source": [
    "def get_response(url):\n",
    "\twith requests.get(url) as response:\n",
    "\t\tif response.status_code != 200:\n",
    "\t\t\tprint(f'Error: {response.status_code} for {url}')\n",
    "\t\t\treturn\n",
    "\t\treturn response\n",
    "\n",
    "def get_soup(url):\n",
    "\t\treturn BeautifulSoup(get_page(url), 'html.parser')\n",
    "\n",
    "def get_page(url):\n",
    "\treturn get_response(url).text\n",
    "\n",
    "def get_data(url):\n",
    "\treturn get_response(url).json()"
   ]
  },
  {
   "cell_type": "code",
   "execution_count": 18,
   "metadata": {},
   "outputs": [],
   "source": [
    "# ABU\n",
    "def abu(url):\n",
    "\trows = []\n",
    "\tsoup = get_soup(url)\n",
    "\tstored_product = stored_products[url]\n",
    "\tbase_items = stored_product['template']\n",
    "\tid = stored_product['id']\n",
    "\tfor variation in get_data(f'https://us.abuniverse.com/wp-json/wc/store/products/{id}')['variations']:\n",
    "\t\tattributes = variation['attributes']\n",
    "\t\tif attributes[2]['value'] == 'scent' or attributes[0]['value'] == 'sample':\n",
    "\t\t\tcontinue\n",
    "\t\tvariation_id = variation['id']\n",
    "\t\tdata = get_data(f'https://us.abuniverse.com/wp-json/wc/store/products/{variation_id}')\n",
    "\t\tstored_size = stored_product['sizes'][attributes[1]['value']]\n",
    "\t\tsize_label = stored_size['label']\n",
    "\t\twaist_low = stored_size['waist_low']\n",
    "\t\twaist_high = stored_size['waist_high']\n",
    "\t\tfor units, ident in stored_product['units'].items():\n",
    "\t\t\tunits = int(units)\n",
    "\t\t\tprice_data = soup.find('label', {'for': ident}).string\n",
    "\t\t\tprice = float(re.search('\\d*\\.\\d*', price_data).group())\n",
    "\t\t\tunit_price = float(price / units)\n",
    "\t\t\tml_per_unit_price = int(base_items['capacity'] / unit_price)\n",
    "\t\t\ttotal_price = price + base_items['shipping']\n",
    "\t\t\tin_stock = 'Yes' if data['is_in_stock'] else 'No'\n",
    "\t\t\tadditional_items = {\n",
    "\t\t\t\t'size_label': size_label,\n",
    "\t\t\t\t'units': units,\n",
    "\t\t\t\t'waist_low': waist_low,\n",
    "\t\t\t\t'waist_high': waist_high,\n",
    "\t\t\t\t'price': price,\n",
    "\t\t\t\t'in_stock': in_stock,\n",
    "\t\t\t\t'ml_per_unit_price': ml_per_unit_price,\n",
    "\t\t\t\t'total_price': total_price,\n",
    "\t\t\t\t'unit_price': unit_price,\n",
    "\t\t\t}\n",
    "\t\t\trows.append(base_items | additional_items)\n",
    "\treturn rows"
   ]
  },
  {
   "cell_type": "code",
   "execution_count": 7,
   "metadata": {},
   "outputs": [
    {
     "name": "stdout",
     "output_type": "stream",
     "text": [
      "{'backing': 'plastic', 'brand': 'ABDL Shop', 'capacity': 5000, 'name': 'Carousel', 'size_label': 'Large', 'notes': '', 'retailer': 'Amazon', 'shipping': 0.0, 'tapes': '2', 'units': 10, 'url': 'https://www.amazon.com/dp/B08GL65JKT', 'waist_high': 44, 'waist_low': 37, 'price': 39.99, 'in_stock': 'Maybe', 'ml_per_unit_price': 1250, 'total_price': 39.99, 'unit_price': 3.999}\n"
     ]
    }
   ],
   "source": [
    "#Amazon\n",
    "url = 'https://www.amazon.com/dp/B08GL65JKT'\n",
    "rows = []\n",
    "\n",
    "base_items = stored_products[url]['template']\n",
    "\n",
    "driver.get(url)\n",
    "soup = BeautifulSoup(driver.page_source, 'html.parser')\n",
    "\n",
    "units = int(base_items['units'])\n",
    "\n",
    "price = float(soup.find('span', {'class': 'apexPriceToPay'}).find('span', {'class': 'a-offscreen'}).string[1:])\n",
    "in_stock = \"Maybe\"\n",
    "unit_price = float(price / units)\n",
    "ml_per_unit_price = int(base_items['capacity'] / unit_price)\n",
    "total_price = float(price + base_items['shipping'])\n",
    "\n",
    "additional_items = {\n",
    "\t'price': price,\n",
    "\t'in_stock': in_stock,\n",
    "\t'ml_per_unit_price': ml_per_unit_price,\n",
    "\t'total_price': total_price,\n",
    "\t'unit_price': unit_price,\n",
    "}\n",
    "\n",
    "rows.append(base_items | additional_items)\n",
    "\n",
    "print(*rows, sep='\\n')"
   ]
  },
  {
   "cell_type": "code",
   "execution_count": 8,
   "metadata": {},
   "outputs": [
    {
     "name": "stdout",
     "output_type": "stream",
     "text": [
      "{'backing': 'plastic', 'brand': 'Bambino', 'capacity': 5000, 'name': 'Cloudee', 'notes': '', 'retailer': 'Bambino', 'shipping': 0.0, 'tapes': '4', 'url': 'https://bambinodiapers.com/products/new-cloudee-all-over-print-diapers', 'size_label': 'Medium', 'units': 8, 'waist_low': 32, 'waist_high': 40, 'price': 30.99, 'in_stock': 'Maybe', 'ml_per_unit_price': 1290, 'total_price': 30.99, 'unit_price': 3.87375}\n",
      "{'backing': 'plastic', 'brand': 'Bambino', 'capacity': 5000, 'name': 'Cloudee', 'notes': '', 'retailer': 'Bambino', 'shipping': 0.0, 'tapes': '4', 'url': 'https://bambinodiapers.com/products/new-cloudee-all-over-print-diapers', 'size_label': 'Medium', 'units': 48, 'waist_low': 32, 'waist_high': 40, 'price': 119.99, 'in_stock': 'Maybe', 'ml_per_unit_price': 2000, 'total_price': 119.99, 'unit_price': 2.4997916666666664}\n",
      "{'backing': 'plastic', 'brand': 'Bambino', 'capacity': 5000, 'name': 'Cloudee', 'notes': '', 'retailer': 'Bambino', 'shipping': 0.0, 'tapes': '4', 'url': 'https://bambinodiapers.com/products/new-cloudee-all-over-print-diapers', 'size_label': 'Large', 'units': 8, 'waist_low': 38, 'waist_high': 50, 'price': 30.99, 'in_stock': 'Maybe', 'ml_per_unit_price': 1290, 'total_price': 30.99, 'unit_price': 3.87375}\n",
      "{'backing': 'plastic', 'brand': 'Bambino', 'capacity': 5000, 'name': 'Cloudee', 'notes': '', 'retailer': 'Bambino', 'shipping': 0.0, 'tapes': '4', 'url': 'https://bambinodiapers.com/products/new-cloudee-all-over-print-diapers', 'size_label': 'Large', 'units': 48, 'waist_low': 38, 'waist_high': 50, 'price': 119.99, 'in_stock': 'Maybe', 'ml_per_unit_price': 2000, 'total_price': 119.99, 'unit_price': 2.4997916666666664}\n",
      "{'backing': 'plastic', 'brand': 'Bambino', 'capacity': 5000, 'name': 'Cloudee', 'notes': '', 'retailer': 'Bambino', 'shipping': 0.0, 'tapes': '4', 'url': 'https://bambinodiapers.com/products/new-cloudee-all-over-print-diapers', 'size_label': 'XLarge', 'units': 8, 'waist_low': 40, 'waist_high': 58, 'price': 30.99, 'in_stock': 'Maybe', 'ml_per_unit_price': 1290, 'total_price': 30.99, 'unit_price': 3.87375}\n",
      "{'backing': 'plastic', 'brand': 'Bambino', 'capacity': 5000, 'name': 'Cloudee', 'notes': '', 'retailer': 'Bambino', 'shipping': 0.0, 'tapes': '4', 'url': 'https://bambinodiapers.com/products/new-cloudee-all-over-print-diapers', 'size_label': 'XLarge', 'units': 48, 'waist_low': 40, 'waist_high': 58, 'price': 119.99, 'in_stock': 'Maybe', 'ml_per_unit_price': 2000, 'total_price': 119.99, 'unit_price': 2.4997916666666664}\n"
     ]
    }
   ],
   "source": [
    "#Bambino\n",
    "url = 'https://bambinodiapers.com/products/new-cloudee-all-over-print-diapers.json'\n",
    "rows = []\n",
    "product = get_data(url)['product']\n",
    "stored_product = stored_products[url]\n",
    "base_items = stored_product['template']\n",
    "\n",
    "for variant in product['variants']:\n",
    "\tif variant['option2'].startswith('1 Sample'):\n",
    "\t\tcontinue\n",
    "\n",
    "\tsize = variant['option1'][:-10]\n",
    "\tstored_size = stored_product['sizes'][size]\n",
    "\tsize_label = stored_size['label']\n",
    "\twaist_high = stored_size['waist_high']\n",
    "\twaist_low = stored_size['waist_low']\n",
    "\tunits = int(variant['option2'][-2:])\n",
    "\tprice = float(variant['price'])\n",
    "\tin_stock = 'Maybe'\n",
    "\tunit_price = float(price / units)\n",
    "\tml_per_unit_price = int(base_items['capacity'] / unit_price)\n",
    "\ttotal_price = float(price + base_items['shipping'])\n",
    "\n",
    "\tadditional_items = {\n",
    "\t\t'size_label': size_label,\n",
    "\t\t'units': units,\n",
    "\t\t'waist_low': waist_low,\n",
    "\t\t'waist_high': waist_high,\n",
    "\t\t'price': price,\n",
    "\t\t'in_stock': in_stock,\n",
    "\t\t'ml_per_unit_price': ml_per_unit_price,\n",
    "\t\t'total_price': total_price,\n",
    "\t\t'unit_price': unit_price,\n",
    "\t}\n",
    "\n",
    "\trows.append(base_items | additional_items)\n",
    "\n",
    "print(*rows, sep='\\n')"
   ]
  },
  {
   "cell_type": "code",
   "execution_count": 9,
   "metadata": {
    "tags": [
     "InControl"
    ]
   },
   "outputs": [
    {
     "name": "stdout",
     "output_type": "stream",
     "text": [
      "{'backing': 'plastic', 'brand': 'InControl', 'name': 'Premium Nights', 'notes': '', 'retailer': 'InControl', 'shipping': 0.0, 'tapes': '4', 'url': 'https://incontroldiapers.com/incontrol-premium-nights-briefs-with-whiff-x-technology/', 'capacity': 5435, 'size_label': 'Large', 'units': 12, 'waist_low': 33, 'waist_high': 42, 'price': 10.99, 'in_stock': 'Maybe', 'ml_per_unit_price': 5934, 'total_price': 10.99, 'unit_price': 0.9158333333333334}\n",
      "{'backing': 'plastic', 'brand': 'InControl', 'name': 'Premium Nights', 'notes': '', 'retailer': 'InControl', 'shipping': 0.0, 'tapes': '4', 'url': 'https://incontroldiapers.com/incontrol-premium-nights-briefs-with-whiff-x-technology/', 'capacity': 5217, 'size_label': 'Medium', 'units': 12, 'waist_low': 30, 'waist_high': 40, 'price': 31.99, 'in_stock': 'Maybe', 'ml_per_unit_price': 1956, 'total_price': 31.99, 'unit_price': 2.665833333333333}\n",
      "{'backing': 'plastic', 'brand': 'InControl', 'name': 'Premium Nights', 'notes': '', 'retailer': 'InControl', 'shipping': 0.0, 'tapes': '4', 'url': 'https://incontroldiapers.com/incontrol-premium-nights-briefs-with-whiff-x-technology/', 'capacity': 5455, 'size_label': 'XLarge', 'units': 12, 'waist_low': 36, 'waist_high': 47, 'price': 31.99, 'in_stock': 'Maybe', 'ml_per_unit_price': 2046, 'total_price': 31.99, 'unit_price': 2.665833333333333}\n",
      "{'backing': 'plastic', 'brand': 'InControl', 'name': 'Premium Nights', 'notes': '', 'retailer': 'InControl', 'shipping': 0.0, 'tapes': '4', 'url': 'https://incontroldiapers.com/incontrol-premium-nights-briefs-with-whiff-x-technology/', 'capacity': 5435, 'size_label': 'Large', 'units': 36, 'waist_low': 33, 'waist_high': 42, 'price': 33.99, 'in_stock': 'Maybe', 'ml_per_unit_price': 5756, 'total_price': 33.99, 'unit_price': 0.9441666666666667}\n",
      "{'backing': 'plastic', 'brand': 'InControl', 'name': 'Premium Nights', 'notes': '', 'retailer': 'InControl', 'shipping': 0.0, 'tapes': '4', 'url': 'https://incontroldiapers.com/incontrol-premium-nights-briefs-with-whiff-x-technology/', 'capacity': 5217, 'size_label': 'Medium', 'units': 36, 'waist_low': 30, 'waist_high': 40, 'price': 83.99, 'in_stock': 'Maybe', 'ml_per_unit_price': 2236, 'total_price': 83.99, 'unit_price': 2.333055555555555}\n",
      "{'backing': 'plastic', 'brand': 'InControl', 'name': 'Premium Nights', 'notes': '', 'retailer': 'InControl', 'shipping': 0.0, 'tapes': '4', 'url': 'https://incontroldiapers.com/incontrol-premium-nights-briefs-with-whiff-x-technology/', 'capacity': 5455, 'size_label': 'XLarge', 'units': 36, 'waist_low': 36, 'waist_high': 47, 'price': 79.99, 'in_stock': 'Maybe', 'ml_per_unit_price': 2455, 'total_price': 79.99, 'unit_price': 2.2219444444444445}\n"
     ]
    }
   ],
   "source": [
    "#InControl\n",
    "url = 'https://incontroldiapers.com/incontrol-premium-nights-briefs-with-whiff-x-technology/'\n",
    "driver.get(url)\n",
    "rows = []\n",
    "stored_product = stored_products[url]\n",
    "base_items = stored_product['template']\n",
    "\n",
    "buttons = dict(map(lambda button: (button.get_attribute('data-product-attribute-value'), button), driver.find_elements(By.CLASS_NAME, 'form-option')))\n",
    "\n",
    "for units, units_id in stored_product['units'].items():\n",
    "\tunits = int(units)\n",
    "\tbuttons[units_id].click()\n",
    "\tfor size in stored_product['sizes']:\n",
    "\t\tbuttons[size['attribute']].click()\n",
    "\n",
    "\t\tcapacity = size['capacity']\n",
    "\t\tsize_label = size['label']\n",
    "\t\twaist_high = size['waist_high']\n",
    "\t\twaist_low = size['waist_low']\n",
    "\t\tprice_element = driver.find_element(By.XPATH, '/html/body/div[1]/div[3]/div[1]/div/div[1]/section[2]/div/div[1]/div[3]/span[3]')\n",
    "\t\tprice = float(re.search('\\d+.\\d+', price_element.text).group())\n",
    "\t\tin_stock = 'Maybe'\n",
    "\t\tunit_price = float(price / units)\n",
    "\t\tml_per_unit_price = int(capacity / unit_price)\n",
    "\t\ttotal_price = float(price + base_items['shipping'])\n",
    "\n",
    "\t\tadditional_items = {\n",
    "\t\t\t'capacity': capacity,\n",
    "\t\t\t'size_label': size_label,\n",
    "\t\t\t'units': units,\n",
    "\t\t\t'waist_low': waist_low,\n",
    "\t\t\t'waist_high': waist_high,\n",
    "\t\t\t'price': price,\n",
    "\t\t\t'in_stock': in_stock,\n",
    "\t\t\t'ml_per_unit_price': ml_per_unit_price,\n",
    "\t\t\t'total_price': total_price,\n",
    "\t\t\t'unit_price': unit_price,\n",
    "\t\t}\n",
    "\n",
    "\t\trows.append(base_items | additional_items)\n",
    "print(*rows, sep='\\n')"
   ]
  },
  {
   "cell_type": "code",
   "execution_count": 10,
   "metadata": {},
   "outputs": [
    {
     "name": "stdout",
     "output_type": "stream",
     "text": [
      "155309\n",
      "155310\n",
      "155311\n",
      "155312\n",
      "155257\n",
      "155258\n",
      "{'backing': 'plastic', 'brand': 'LittleForBig', 'capacity': 5352, 'name': 'Blushing Baby', 'notes': 'assumed ISO', 'retailer': 'LittleForBig', 'shipping': 0.0, 'tapes': '4', 'url': 'https://www.littleforbig.com/product/blushing-baby-adult-diapers-10-pieces-packm-l/', 'size_label': 'Medium', 'units': 40, 'waist_low': 28, 'waist_high': 38, 'price': 139.99, 'in_stock': 'Yes', 'ml_per_unit_price': 1529, 'total_price': 139.99, 'unit_price': 3.49975}\n",
      "{'backing': 'plastic', 'brand': 'LittleForBig', 'capacity': 5352, 'name': 'Blushing Baby', 'notes': 'assumed ISO', 'retailer': 'LittleForBig', 'shipping': 0.0, 'tapes': '4', 'url': 'https://www.littleforbig.com/product/blushing-baby-adult-diapers-10-pieces-packm-l/', 'size_label': 'Medium', 'units': 80, 'waist_low': 28, 'waist_high': 38, 'price': 248.99, 'in_stock': 'Yes', 'ml_per_unit_price': 1719, 'total_price': 248.99, 'unit_price': 3.112375}\n",
      "{'backing': 'plastic', 'brand': 'LittleForBig', 'capacity': 5352, 'name': 'Blushing Baby', 'notes': 'assumed ISO', 'retailer': 'LittleForBig', 'shipping': 0.0, 'tapes': '4', 'url': 'https://www.littleforbig.com/product/blushing-baby-adult-diapers-10-pieces-packm-l/', 'size_label': 'Large', 'units': 40, 'waist_low': 36, 'waist_high': 46, 'price': 139.99, 'in_stock': 'Yes', 'ml_per_unit_price': 1529, 'total_price': 139.99, 'unit_price': 3.49975}\n",
      "{'backing': 'plastic', 'brand': 'LittleForBig', 'capacity': 5352, 'name': 'Blushing Baby', 'notes': 'assumed ISO', 'retailer': 'LittleForBig', 'shipping': 0.0, 'tapes': '4', 'url': 'https://www.littleforbig.com/product/blushing-baby-adult-diapers-10-pieces-packm-l/', 'size_label': 'Large', 'units': 80, 'waist_low': 36, 'waist_high': 46, 'price': 248.99, 'in_stock': 'Yes', 'ml_per_unit_price': 1719, 'total_price': 248.99, 'unit_price': 3.112375}\n",
      "{'backing': 'plastic', 'brand': 'LittleForBig', 'capacity': 5352, 'name': 'Blushing Baby', 'notes': 'assumed ISO', 'retailer': 'LittleForBig', 'shipping': 0.0, 'tapes': '4', 'url': 'https://www.littleforbig.com/product/blushing-baby-adult-diapers-10-pieces-packm-l/', 'size_label': 'Medium', 'units': 10, 'waist_low': 28, 'waist_high': 38, 'price': 42.99, 'in_stock': 'Yes', 'ml_per_unit_price': 1244, 'total_price': 42.99, 'unit_price': 4.299}\n",
      "{'backing': 'plastic', 'brand': 'LittleForBig', 'capacity': 5352, 'name': 'Blushing Baby', 'notes': 'assumed ISO', 'retailer': 'LittleForBig', 'shipping': 0.0, 'tapes': '4', 'url': 'https://www.littleforbig.com/product/blushing-baby-adult-diapers-10-pieces-packm-l/', 'size_label': 'Large', 'units': 10, 'waist_low': 36, 'waist_high': 46, 'price': 42.99, 'in_stock': 'Yes', 'ml_per_unit_price': 1244, 'total_price': 42.99, 'unit_price': 4.299}\n"
     ]
    }
   ],
   "source": [
    "#LittleForBig\n",
    "url = 'https://www.littleforbig.com/wp-json/wc/store/products/155255'\n",
    "rows = []\n",
    "product = get_data(url)\n",
    "stored_product = stored_products[url]\n",
    "base_items = stored_product['template']\n",
    "\n",
    "for variation in product['variations']:\n",
    "\tvariant_id = variation['id']\n",
    "\tvariant = variation['attributes'][0]['value']\n",
    "\tvariant_data = get_data(f'https://www.littleforbig.com/wp-json/wc/store/products/{variant_id}')\n",
    "\n",
    "\tsize = variant[:6]\n",
    "\tstored_size = stored_product['sizes'][size]\n",
    "\tsize_label = stored_size['label']\n",
    "\twaist_low = int(stored_size['waist_low'])\n",
    "\twaist_high = int(stored_size['waist_high'])\n",
    "\tunits = int(re.search('\\d\\d ', variant).group())\n",
    "\tprice = float('{0}.{1}'.format(variant_data['prices']['price'][:-2], variant_data['prices']['price'][-2:]))\n",
    "\tin_stock = 'Yes' if data['is_in_stock'] else 'No'\n",
    "\tunit_price = float(price / units)\n",
    "\tml_per_unit_price = int(base_items['capacity'] / unit_price)\n",
    "\ttotal_price = float(price + base_items['shipping'])\n",
    "\n",
    "\tadditional_items = {\n",
    "\t\t'size_label': size_label,\n",
    "\t\t'units': units,\n",
    "\t\t'waist_low': waist_low,\n",
    "\t\t'waist_high': waist_high,\n",
    "\t\t'price': price,\n",
    "\t\t'in_stock': in_stock,\n",
    "\t\t'ml_per_unit_price': ml_per_unit_price,\n",
    "\t\t'total_price': total_price,\n",
    "\t\t'unit_price': unit_price,\n",
    "\t}\n",
    "\t\n",
    "\trows.append(base_items | additional_items)\n",
    "\n",
    "print(*rows, sep='\\n')"
   ]
  },
  {
   "cell_type": "code",
   "execution_count": 11,
   "metadata": {},
   "outputs": [
    {
     "name": "stdout",
     "output_type": "stream",
     "text": [
      "{'backing': 'plastic', 'brand': 'MyInnerBaby', 'capacity': 5000, 'name': 'Seaside Princess', 'notes': '', 'retailer': 'MyInnerBaby', 'shipping': 0.0, 'tapes': '4', 'url': 'https://myinnerbaby.com/products/ageplay-outfitters-seaside-princess-printed-adult-diaper', 'size_label': 'Medium', 'units': 10, 'waist_low': 32, 'waist_high': 40, 'price': 39.95, 'in_stock': 'Maybe', 'ml_per_unit_price': 1251, 'total_price': 39.95, 'unit_price': 3.995}\n",
      "{'backing': 'plastic', 'brand': 'MyInnerBaby', 'capacity': 5000, 'name': 'Seaside Princess', 'notes': '', 'retailer': 'MyInnerBaby', 'shipping': 0.0, 'tapes': '4', 'url': 'https://myinnerbaby.com/products/ageplay-outfitters-seaside-princess-printed-adult-diaper', 'size_label': 'Medium', 'units': 40, 'waist_low': 32, 'waist_high': 40, 'price': 109.95, 'in_stock': 'Maybe', 'ml_per_unit_price': 1819, 'total_price': 109.95, 'unit_price': 2.7487500000000002}\n",
      "{'backing': 'plastic', 'brand': 'MyInnerBaby', 'capacity': 5000, 'name': 'Seaside Princess', 'notes': '', 'retailer': 'MyInnerBaby', 'shipping': 0.0, 'tapes': '4', 'url': 'https://myinnerbaby.com/products/ageplay-outfitters-seaside-princess-printed-adult-diaper', 'size_label': 'Large', 'units': 10, 'waist_low': 36, 'waist_high': 50, 'price': 39.95, 'in_stock': 'Maybe', 'ml_per_unit_price': 1251, 'total_price': 39.95, 'unit_price': 3.995}\n",
      "{'backing': 'plastic', 'brand': 'MyInnerBaby', 'capacity': 5000, 'name': 'Seaside Princess', 'notes': '', 'retailer': 'MyInnerBaby', 'shipping': 0.0, 'tapes': '4', 'url': 'https://myinnerbaby.com/products/ageplay-outfitters-seaside-princess-printed-adult-diaper', 'size_label': 'Large', 'units': 40, 'waist_low': 36, 'waist_high': 50, 'price': 109.95, 'in_stock': 'Maybe', 'ml_per_unit_price': 1819, 'total_price': 109.95, 'unit_price': 2.7487500000000002}\n"
     ]
    }
   ],
   "source": [
    "#MyInnerbaby\n",
    "url = 'https://myinnerbaby.com/products/ageplay-outfitters-seaside-princess-printed-adult-diaper.json'\n",
    "rows = []\n",
    "product = get_data(url)['product']\n",
    "stored_product = stored_products[url]\n",
    "base_items = stored_product['template']\n",
    "\n",
    "for variant in product['variants']:\n",
    "\tif variant['option2'] != 'Bag of 10' and variant['option2'] != 'Case of 40':\n",
    "\t\tcontinue\n",
    "\n",
    "\tsize = variant['option1']\n",
    "\tstored_size = stored_product['sizes'][size]\n",
    "\tsize_label = stored_size['label']\n",
    "\twaist_low = int(stored_size['waist_low'])\n",
    "\twaist_high = int(stored_size['waist_high'])\n",
    "\tunits = int(variant['option2'][-2:])\n",
    "\tprice = float(variant['price'])\n",
    "\tin_stock = 'Maybe'\n",
    "\tunit_price = float(price / units)\n",
    "\tml_per_unit_price = int(base_items['capacity'] / unit_price)\n",
    "\ttotal_price = float(price + base_items['shipping'])\n",
    "\n",
    "\tadditional_items = {\n",
    "\t\t'size_label': size_label,\n",
    "\t\t'units': units,\n",
    "\t\t'waist_low': waist_low,\n",
    "\t\t'waist_high': waist_high,\n",
    "\t\t'price': price,\n",
    "\t\t'in_stock': in_stock,\n",
    "\t\t'ml_per_unit_price': ml_per_unit_price,\n",
    "\t\t'total_price': total_price,\n",
    "\t\t'unit_price': unit_price,\n",
    "\t}\n",
    "\t\n",
    "\trows.append(base_items | additional_items)\n",
    "\n",
    "print(*rows, sep='\\n')"
   ]
  },
  {
   "cell_type": "code",
   "execution_count": 12,
   "metadata": {},
   "outputs": [
    {
     "name": "stdout",
     "output_type": "stream",
     "text": [
      "{'backing': 'plastic', 'brand': 'NorthShore', 'capacity': 6500, 'name': 'MEGAMAX', 'size_label': 'Large', 'notes': '', 'retailer': 'NorthShore', 'shipping': 0.0, 'tapes': '4', 'units': 40, 'url': 'https://www.northshorecare.com/adult-diapers/adult-diapers-with-tabs/northshore-megamax-tab-style-briefs/northshore-megamax-tab-style-briefs-medium-case40-410s', 'waist_high': 44, 'waist_low': 32, 'price': 114.99, 'in_stock': 'Yes', 'ml_per_unit_price': 2261, 'total_price': 114.99, 'unit_price': 2.8747499999999997}\n"
     ]
    }
   ],
   "source": [
    "#NorthShore\n",
    "url = 'https://www.northshorecare.com/adult-diapers/adult-diapers-with-tabs/northshore-megamax-tab-style-briefs/northshore-megamax-tab-style-briefs-medium-case40-410s'\n",
    "driver.get(url)\n",
    "soup = BeautifulSoup(driver.page_source, 'html.parser')\n",
    "rows = []\n",
    "stored_product = stored_products[url]\n",
    "base_items = stored_product['template']\n",
    "\n",
    "price = float(soup.find('span', {'class', 'product-details__price_highlight'}).string[1:])\n",
    "in_stock = 'Yes' if soup.find('span', {'class', 'icon icon-check'}) else 'No'\n",
    "units = int(base_items['units'])\n",
    "unit_price = price / units\n",
    "ml_per_unit_price = int(base_items['capacity'] / unit_price)\n",
    "total_price = float(price + base_items['shipping'])\n",
    "\n",
    "additional_items = {\n",
    "\t'size_label': size_label,\n",
    "\t\t'price': price,\n",
    "\t\t'in_stock': in_stock,\n",
    "\t\t'ml_per_unit_price': ml_per_unit_price,\n",
    "\t\t'total_price': total_price,\n",
    "\t\t'unit_price': unit_price,\n",
    "}\n",
    "\n",
    "rows.append(base_items | additional_items)\n",
    "print(*rows,sep='\\n')"
   ]
  },
  {
   "cell_type": "code",
   "execution_count": 15,
   "metadata": {},
   "outputs": [
    {
     "name": "stdout",
     "output_type": "stream",
     "text": [
      "{'backing': 'plastic', 'brand': 'Rearz', 'capacity': 5800, 'name': 'Alpaca', 'notes': '', 'retailer': 'Rearz', 'shipping': 0.0, 'tapes': '4', 'url': 'https://rearz.ca/rearz-alpaca-overnight-diapers/', 'size_label': 'Large', 'units': 12, 'waist_low': 33, 'waist_high': 42, 'price': 45.99, 'in_stock': 'Maybe', 'ml_per_unit_price': 1513, 'total_price': 45.99, 'unit_price': 3.8325}\n",
      "{'backing': 'plastic', 'brand': 'Rearz', 'capacity': 5800, 'name': 'Alpaca', 'notes': '', 'retailer': 'Rearz', 'shipping': 0.0, 'tapes': '4', 'url': 'https://rearz.ca/rearz-alpaca-overnight-diapers/', 'size_label': 'Medium', 'units': 12, 'waist_low': 30, 'waist_high': 40, 'price': 41.99, 'in_stock': 'Maybe', 'ml_per_unit_price': 1657, 'total_price': 41.99, 'unit_price': 3.499166666666667}\n",
      "{'backing': 'plastic', 'brand': 'Rearz', 'capacity': 5800, 'name': 'Alpaca', 'notes': '', 'retailer': 'Rearz', 'shipping': 0.0, 'tapes': '4', 'url': 'https://rearz.ca/rearz-alpaca-overnight-diapers/', 'size_label': 'XLarge', 'units': 12, 'waist_low': 36, 'waist_high': 47, 'price': 46.99, 'in_stock': 'Maybe', 'ml_per_unit_price': 1481, 'total_price': 46.99, 'unit_price': 3.9158333333333335}\n",
      "{'backing': 'plastic', 'brand': 'Rearz', 'capacity': 5800, 'name': 'Alpaca', 'notes': '', 'retailer': 'Rearz', 'shipping': 0.0, 'tapes': '4', 'url': 'https://rearz.ca/rearz-alpaca-overnight-diapers/', 'size_label': 'Large', 'units': 36, 'waist_low': 33, 'waist_high': 42, 'price': 96.99, 'in_stock': 'Maybe', 'ml_per_unit_price': 2152, 'total_price': 96.99, 'unit_price': 2.6941666666666664}\n",
      "{'backing': 'plastic', 'brand': 'Rearz', 'capacity': 5800, 'name': 'Alpaca', 'notes': '', 'retailer': 'Rearz', 'shipping': 0.0, 'tapes': '4', 'url': 'https://rearz.ca/rearz-alpaca-overnight-diapers/', 'size_label': 'Medium', 'units': 36, 'waist_low': 30, 'waist_high': 40, 'price': 89.99, 'in_stock': 'Maybe', 'ml_per_unit_price': 2320, 'total_price': 89.99, 'unit_price': 2.499722222222222}\n",
      "{'backing': 'plastic', 'brand': 'Rearz', 'capacity': 5800, 'name': 'Alpaca', 'notes': '', 'retailer': 'Rearz', 'shipping': 0.0, 'tapes': '4', 'url': 'https://rearz.ca/rearz-alpaca-overnight-diapers/', 'size_label': 'XLarge', 'units': 36, 'waist_low': 36, 'waist_high': 47, 'price': 99.99, 'in_stock': 'Maybe', 'ml_per_unit_price': 2088, 'total_price': 99.99, 'unit_price': 2.7775}\n"
     ]
    }
   ],
   "source": [
    "#Rearz\n",
    "url = 'https://rearz.ca/rearz-alpaca-overnight-diapers/'\n",
    "driver.get(url)\n",
    "sleep(4)\n",
    "rows = []\n",
    "stored_product = stored_products[url]\n",
    "base_items = stored_product['template']\n",
    "\n",
    "\n",
    "\n",
    "for units, units_id in stored_product['units'].items():\n",
    "\tunits = int(units)\n",
    "\tdriver.find_element(By.XPATH, units_id).click()\n",
    "\tfor size in stored_product['sizes']:\n",
    "\t\tdriver.find_element(By.XPATH, size['attribute']).click()\n",
    "\t\tsleep(4)\n",
    "\t\tsize_label = size['label']\n",
    "\t\twaist_high = size['waist_high']\n",
    "\t\twaist_low = size['waist_low']\n",
    "\t\tprice_element = driver.find_element(By.XPATH, '/html/body/div[3]/div[1]/div[1]/div/div[1]/div[2]/div[2]/div/div[3]/div[3]/span')\n",
    "\t\tprice = float(re.search('\\d+.\\d+', price_element.text).group())\n",
    "\t\tin_stock = 'Maybe'\n",
    "\t\tunit_price = float(price / units)\n",
    "\t\tml_per_unit_price = int(base_items['capacity'] / unit_price)\n",
    "\t\ttotal_price = float(price + base_items['shipping'])\n",
    "\n",
    "\t\tadditional_items = {\n",
    "\t\t\t'size_label': size_label,\n",
    "\t\t\t'units': units,\n",
    "\t\t\t'waist_low': waist_low,\n",
    "\t\t\t'waist_high': waist_high,\n",
    "\t\t\t'price': price,\n",
    "\t\t\t'in_stock': in_stock,\n",
    "\t\t\t'ml_per_unit_price': ml_per_unit_price,\n",
    "\t\t\t'total_price': total_price,\n",
    "\t\t\t'unit_price': unit_price,\n",
    "\t\t}\n",
    "\n",
    "\t\trows.append(base_items | additional_items)\n",
    "\t\t\n",
    "print(*rows, sep='\\n')"
   ]
  },
  {
   "cell_type": "code",
   "execution_count": 16,
   "metadata": {
    "tags": []
   },
   "outputs": [
    {
     "name": "stdout",
     "output_type": "stream",
     "text": [
      "{'backing': 'plastic', 'brand': 'Tykables', 'capacity': 8000, 'name': 'Str8up Pink', 'notes': '', 'retailer': 'Tykables', 'shipping': 0.0, 'tapes': '4', 'url': 'https://tykables.com/products/str8up-pink', 'size_label': 'Medium', 'units': 10, 'waist_low': 28, 'waist_high': 36, 'price': 47.0, 'in_stock': 'Yes', 'ml_per_unit_price': 1702, 'total_price': 47.0, 'unit_price': 4.7}\n",
      "{'backing': 'plastic', 'brand': 'Tykables', 'capacity': 8000, 'name': 'Str8up Pink', 'notes': '', 'retailer': 'Tykables', 'shipping': 0.0, 'tapes': '4', 'url': 'https://tykables.com/products/str8up-pink', 'size_label': 'Medium', 'units': 40, 'waist_low': 28, 'waist_high': 36, 'price': 125.0, 'in_stock': 'Yes', 'ml_per_unit_price': 2560, 'total_price': 125.0, 'unit_price': 3.125}\n",
      "{'backing': 'plastic', 'brand': 'Tykables', 'capacity': 8000, 'name': 'Str8up Pink', 'notes': '', 'retailer': 'Tykables', 'shipping': 0.0, 'tapes': '4', 'url': 'https://tykables.com/products/str8up-pink', 'size_label': 'Medium', 'units': 80, 'waist_low': 28, 'waist_high': 36, 'price': 240.0, 'in_stock': 'Yes', 'ml_per_unit_price': 2666, 'total_price': 240.0, 'unit_price': 3.0}\n",
      "{'backing': 'plastic', 'brand': 'Tykables', 'capacity': 8000, 'name': 'Str8up Pink', 'notes': '', 'retailer': 'Tykables', 'shipping': 0.0, 'tapes': '4', 'url': 'https://tykables.com/products/str8up-pink', 'size_label': 'Large', 'units': 10, 'waist_low': 34, 'waist_high': 48, 'price': 47.0, 'in_stock': 'Yes', 'ml_per_unit_price': 1702, 'total_price': 47.0, 'unit_price': 4.7}\n",
      "{'backing': 'plastic', 'brand': 'Tykables', 'capacity': 8000, 'name': 'Str8up Pink', 'notes': '', 'retailer': 'Tykables', 'shipping': 0.0, 'tapes': '4', 'url': 'https://tykables.com/products/str8up-pink', 'size_label': 'Large', 'units': 40, 'waist_low': 34, 'waist_high': 48, 'price': 125.0, 'in_stock': 'Yes', 'ml_per_unit_price': 2560, 'total_price': 125.0, 'unit_price': 3.125}\n",
      "{'backing': 'plastic', 'brand': 'Tykables', 'capacity': 8000, 'name': 'Str8up Pink', 'notes': '', 'retailer': 'Tykables', 'shipping': 0.0, 'tapes': '4', 'url': 'https://tykables.com/products/str8up-pink', 'size_label': 'Large', 'units': 80, 'waist_low': 34, 'waist_high': 48, 'price': 240.0, 'in_stock': 'Yes', 'ml_per_unit_price': 2666, 'total_price': 240.0, 'unit_price': 3.0}\n",
      "{'backing': 'plastic', 'brand': 'Tykables', 'capacity': 8000, 'name': 'Str8up Pink', 'notes': '', 'retailer': 'Tykables', 'shipping': 0.0, 'tapes': '4', 'url': 'https://tykables.com/products/str8up-pink', 'size_label': 'XLarge', 'units': 10, 'waist_low': 48, 'waist_high': 52, 'price': 47.0, 'in_stock': 'Yes', 'ml_per_unit_price': 1702, 'total_price': 47.0, 'unit_price': 4.7}\n",
      "{'backing': 'plastic', 'brand': 'Tykables', 'capacity': 8000, 'name': 'Str8up Pink', 'notes': '', 'retailer': 'Tykables', 'shipping': 0.0, 'tapes': '4', 'url': 'https://tykables.com/products/str8up-pink', 'size_label': 'XLarge', 'units': 40, 'waist_low': 48, 'waist_high': 52, 'price': 125.0, 'in_stock': 'Yes', 'ml_per_unit_price': 2560, 'total_price': 125.0, 'unit_price': 3.125}\n",
      "{'backing': 'plastic', 'brand': 'Tykables', 'capacity': 8000, 'name': 'Str8up Pink', 'notes': '', 'retailer': 'Tykables', 'shipping': 0.0, 'tapes': '4', 'url': 'https://tykables.com/products/str8up-pink', 'size_label': 'XLarge', 'units': 80, 'waist_low': 48, 'waist_high': 52, 'price': 240.0, 'in_stock': 'Yes', 'ml_per_unit_price': 2666, 'total_price': 240.0, 'unit_price': 3.0}\n"
     ]
    }
   ],
   "source": [
    "# Tykables\n",
    "url = 'https://tykables.com/products/str8up-pink.json'\n",
    "rows = []\n",
    "product = get_data(url)['product']\n",
    "stored_product = stored_products[url]\n",
    "base_items = stored_product['template']\n",
    "\n",
    "for variant in product['variants']:\n",
    "\tif variant['option3'] != 'None' or variant['option2'] == '1 Sample':\n",
    "\t\tcontinue\n",
    "\n",
    "\tsize = variant['option1']\n",
    "\tstored_size = stored_product['sizes'][size]\n",
    "\tsize_label = stored_size['label']\n",
    "\twaist_low = int(stored_size['waist_low'])\n",
    "\twaist_high = int(stored_size['waist_high'])\n",
    "\tunits = int(variant['option2'][:2])\n",
    "\tprice = float(variant['price'])\n",
    "\tin_stock = 'Yes' if variant['inventory_quantity'] > 0 else 'No'\n",
    "\tunit_price = float(price / units)\n",
    "\tml_per_unit_price = int(base_items['capacity'] / unit_price)\n",
    "\ttotal_price = float(price + base_items['shipping'])\n",
    "\n",
    "\tadditional_items = {\n",
    "\t\t'size_label': size_label,\n",
    "\t\t'units': units,\n",
    "\t\t'waist_low': waist_low,\n",
    "\t\t'waist_high': waist_high,\n",
    "\t\t'price': price,\n",
    "\t\t'in_stock': in_stock,\n",
    "\t\t'ml_per_unit_price': ml_per_unit_price,\n",
    "\t\t'total_price': total_price,\n",
    "\t\t'unit_price': unit_price,\n",
    "\t}\n",
    "\t\n",
    "\trows.append(base_items | additional_items)\n",
    "\n",
    "print(*rows, sep='\\n')"
   ]
  }
 ],
 "metadata": {
  "kernelspec": {
   "display_name": ".venv",
   "language": "python",
   "name": "python3"
  },
  "language_info": {
   "codemirror_mode": {
    "name": "ipython",
    "version": 3
   },
   "file_extension": ".py",
   "mimetype": "text/x-python",
   "name": "python",
   "nbconvert_exporter": "python",
   "pygments_lexer": "ipython3",
   "version": "3.10.4"
  },
  "orig_nbformat": 4,
  "vscode": {
   "interpreter": {
    "hash": "b3c221db3b88a5e95a81a2f3a3bcc5a26f644fa3036dc2c040ab2b4a0e2d72db"
   }
  }
 },
 "nbformat": 4,
 "nbformat_minor": 2
}
